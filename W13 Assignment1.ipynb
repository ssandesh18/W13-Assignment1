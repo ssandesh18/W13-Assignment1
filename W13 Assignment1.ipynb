{
  "nbformat": 4,
  "nbformat_minor": 0,
  "metadata": {
    "colab": {
      "provenance": []
    },
    "kernelspec": {
      "name": "python3",
      "display_name": "Python 3"
    },
    "language_info": {
      "name": "python"
    }
  },
  "cells": [
    {
      "cell_type": "markdown",
      "source": [
        "Q1: Explain the following with an example:\n",
        "1) Artificial IntelligencJ\n",
        "2) Machine Learnin,\n",
        "3) Deep Learning\n",
        "\n"
      ],
      "metadata": {
        "id": "oCm5t5oImQeb"
      }
    },
    {
      "cell_type": "markdown",
      "source": [
        "1) Artificial intelligence (AI) is a set of technologies that enable computers to perform a variety of advanced functions, including the ability to see, understand and translate spoken and written language, analyze data, make recommendations, and more.\n",
        "AI is the backbone of innovation in modern computing, unlocking value for individuals and businesses. For example, optical character recognition (OCR) uses AI to extract text and data from images and documents, turns unstructured content into business-ready structured data, and unlocks valuable insights.\n",
        "\n",
        "2) Machine learning (ML) is a branch of artificial intelligence (AI) that allows systems to learn and improve from data without being explicitly programmed. ML uses statistical algorithms to analyze large amounts of data, identify patterns, and make decisions.\n",
        "Here are some examples of machine learning in action:\n",
        "Speech recognition: Uses natural language processing (NLP) to convert human speech into written text\n",
        "Customer service: Online chatbots use ML to interact with customers\n",
        "\n",
        "3) Deep learning is a type of machine learning that uses artificial neural networks to learn from data. Artificial neural networks are inspired by the human brain, and they can be used to solve a wide variety of problems, including image recognition, natural language processing, and speech recognition."
      ],
      "metadata": {
        "id": "PlvWPPqOmO67"
      }
    },
    {
      "cell_type": "markdown",
      "source": [],
      "metadata": {
        "id": "jPwb_z-NxNWw"
      }
    },
    {
      "cell_type": "markdown",
      "source": [
        "Q2: What is supervised learning? List some examples of supervised learning.\n",
        "\n",
        "Supervised learning is a machine learning technique that uses labeled data sets to train algorithms to recognize patterns and predict outcomes. Here are some examples of supervised learning:\n",
        "Linear regression\n",
        "A supervised learning algorithm that relates the value of independent variables to the value of a dependent variable.\n",
        "Logistic regression\n",
        "A supervised learning technique that predicts the probability of a binary event, such as yes or no.\n",
        "Support vector machines\n",
        "A supervised learning model that filters data into categories using training examples.\n",
        "Naive Bayes\n",
        "A supervised learning technique that uses labeled data to train the model.\n",
        "K-nearest neighbors (KNN)\n",
        "A machine learning algorithm that classifies data points based on their K nearest neighbor points.\n",
        "Random Forest\n",
        "A supervised learning algorithm that uses labeled data to teach how to categorize unlabeled data\n",
        "\n"
      ],
      "metadata": {
        "id": "bZsALMjaxrXU"
      }
    },
    {
      "cell_type": "markdown",
      "source": [
        "Q3: What is unsupervised learning? List some examples of unsupervised learning\n",
        "\n",
        "Unsupervised learning is a machine learning technique where a machine is trained on unlabeled data to learn patterns and relationships in the data. Some examples of unsupervised learning include:\n",
        "Clustering\n",
        "Groups similar data points together based on their features. For example, K-Means is a popular clustering algorithm that separates data into a predetermined number of clusters.\n",
        "Dimensionality reduction\n",
        "Transforms data from high-dimensional spaces to low-dimensional spaces without compromising meaningful properties in the original data. Principal Component Analysis (PCA) is a popular unsupervised learning technique for reducing the dimensionality of large data sets.\n",
        "Anomaly detection\n",
        "Identifies unusual or abnormal patterns in data, such as fraud, network intrusions, or system failures.\n",
        "Customer segmentation\n",
        "Identifies distinct client groups around which one can develop marketing or other company tactics.\n",
        "Recommender systems\n",
        "Combines individuals with comparable viewing habits to recommend material similar to that content."
      ],
      "metadata": {
        "id": "2s-hWcZazTC9"
      }
    },
    {
      "cell_type": "markdown",
      "source": [
        "Q4: What is the difference between AI, ML, DL, and DS?\n",
        "\n",
        "Artificial Intelligence (AI), Machine Learning (ML), Deep Learning (DL), and Data Science (DS) are related fields that involve data and machines, but they have different focuses:\n",
        "Artificial Intelligence\n",
        "The broader field of building intelligent machines that can learn from data and make decisions. AI systems can help model and analyze complex systems.\n",
        "Machine Learning\n",
        "A subset of AI that uses algorithms to learn from data and make decisions. ML can use statistical tools like supervised, unsupervised, and reinforcement learning.\n",
        "Deep Learning\n",
        "A subset of ML that uses algorithms modeled after the human brain to create artificial neural networks. Deep learning can learn and make decisions on its own.\n",
        "Data Science\n",
        "An interdisciplinary field that involves extracting insights from data. Data scientists use a variety of techniques to collect, manage, analyze, and interpret data. They can use ML or DL to build models, or they can use other techniques like statistics and visualization."
      ],
      "metadata": {
        "id": "EV9k8PZ5zmYE"
      }
    },
    {
      "cell_type": "markdown",
      "source": [
        "Q5: What are the main differences between supervised, unsupervised, and semi-supervised learning?\n",
        "\n",
        "The main difference between supervised, unsupervised, and semi-supervised learning is the type of data used:\n",
        "Supervised learning\n",
        "Uses labeled data, which means that the data has been pre-labeled by humans with the correct answer or classification. The algorithm uses the labeled data to train itself to make predictions.\n",
        "Unsupervised learning\n",
        "Uses unlabeled data, which means that the data has not been previously labeled. The algorithm works independently to learn the data's inherent structure without any specific guidance or instruction.\n",
        "Semi-supervised learning\n",
        "Uses a mix of labeled and unlabeled data. It uses a small amount of labeled data to bolster a larger set of unlabeled data.\n",
        "Here are some other differences between these types of learning:\n",
        "Accuracy\n",
        "Supervised learning can produce highly accurate and trustworthy results. However, unsupervised learning can produce inaccurate results because it's difficult to understand how the data is clustered.\n",
        "Data volume\n",
        "Supervised learning can have difficulty classifying large amounts of data, but unsupervised learning can handle large volumes of data in real time.\n",
        "Distribution shifts\n",
        "Semi-supervised learning models can be sensitive to distribution shifts between the labeled and unlabeled data"
      ],
      "metadata": {
        "id": "0UFO6OJYzrrR"
      }
    },
    {
      "cell_type": "markdown",
      "source": [
        "Q6: What is train, test and validation split? Explain the importance of each term.\n",
        "\n",
        "The train-test-validation split is a method for dividing a dataset into three subsets to build machine learning models:\n",
        "Training set: Used to train the model by learning patterns and relationships in the data\n",
        "Validation set: Used to tune the model's hyperparameters and assess how well it performs on different model types\n",
        "Test set: Used to evaluate the model's accuracy in the real world\n",
        "The train-test-validation split is important because it helps prevent overfitting, which occurs when a model performs well on training data but not on new data. It also allows practitioners to iteratively adjust the model's parameters to improve its performance.\n",
        "Here are some other things to keep in mind about the train-test-validation split:\n",
        "To prevent data leakage, it's important to ensure that information from the validation and test sets doesn't leak into the training set.\n",
        "The final set, whether it's called the test or validation set, should only be used in the final experiment.\n",
        "In industry and academia, the terms \"test set\" and \"validation set\" are sometimes used interchangeably.\n",
        "\n"
      ],
      "metadata": {
        "id": "Q4Y3iCtez5M7"
      }
    },
    {
      "cell_type": "markdown",
      "source": [
        "Q7: How can unsupervised learning be used in anomaly detection?\n",
        "\n",
        "Unsupervised learning can be used in anomaly detection to identify data points that are different from the norm:\n",
        "Clustering\n",
        "Groups data points with similar features into clusters, and flags points that are far outside the norm as anomalies.\n",
        "Scoring\n",
        "Assigns each data point a score that indicates how likely it is to be an anomaly. The score is calculated based on the model used.\n",
        "Time series\n",
        "Creates a visualization of normal performance based on time series data, and flags spikes or unexpected patterns as anomalies.\n",
        "Unsupervised learning is a popular approach to anomaly detection because it doesn't require labeled data, and unlabeled anomalous data is more common. It's useful when anomalies are rare or poorly understood.\n",
        "Some examples of unsupervised learning algorithms for anomaly detection include:\n",
        "Isolation Forest: An algorithm that can be used to train a model to detect anomalies\n",
        "Local Outlier Factor (LOF): An algorithm that measures how close data points are to their neighbors, and flags points that are far away as outliers\n",
        "Interquartile Range (IQR): An algorithm that can be used to detect anomalies in unlabeled data\n"
      ],
      "metadata": {
        "id": "V8G2Jz4q0GI6"
      }
    },
    {
      "cell_type": "markdown",
      "source": [
        "Q8: List down some commonly used supervised learning algorithms and unsupervised learning\n",
        "algorithms.\n",
        "Below is the list of some popular unsupervised learning algorithms:\n",
        "1. K-means clustering.\n",
        "K-Means is used for Clustering. KNN is used mostly for Classification, and sometimes even for Regression. 'K' in K-Means is the number of clusters the algorithm is trying to identify/learn from the data. The clusters are often unknown since this is used with Unsupervised learning.\n",
        "3. Hierarchal clustering.\n",
        "Hierarchical clustering is the most popular and widely used method to analyze social network data. In this method, nodes are compared with one another based on their similarity. Larger groups are built by joining groups of nodes based on their similarity.\n",
        "4. Anomaly detection.\n",
        "Anomaly detection is identifying data points in data that don't fit the normal patterns. It can be useful to solve many problems including fraud detection, medical diagnosis,\n",
        "5. Neural Networks.\n",
        "Neural networks can provide robust solutions to problems in a wide range of disciplines, particularly areas involving classification, prediction, filtering, optimization, pattern recognition, and function approximation.\n",
        "6. Principle Component Analysis.\n",
        "Principal Component Analysis (PCA) is one of the most commonly used unsupervised machine learning algorithms across a variety of applications: exploratory data analysis, dimensionality reduction, information compression, data de-noising, and plenty more!\n",
        "7. Independent Component Analysis.\n",
        "One of the most widely-used examples of BSS is to separate voice signals of people speaking at the same time, this is called cocktail party problem . The independent component analysis (ICA) technique is one of the most well-known algorithms which are used for solving this problem.\n",
        "8. Apriori algorithm.\n",
        "To improve the efficiency of level-wise generation of frequent itemsets, an important property is used called Apriori property which helps by reducing the search space. All subsets of a frequent itemset must be frequent(Apriori property). If an itemset is infrequent, all its supersets will be infrequent.\n",
        "\n",
        "The most widely supervised learning algorithms are:\n",
        "1. Support-vector machines.\n",
        "Support Vector Machine” (SVM) is a supervised machine learning algorithm that can be used for both classification or regression challenges. However, it is mostly used in classification problems\n",
        "2. Linear regression.\n",
        "Linear regression analysis is used to predict the value of a variable based on the value of another variable. The variable you want to predict is called the dependent variable. … Linear regression fits a straight line or surface that minimizes the discrepancies between predicted and actual output values\n",
        "To find a best fitting line for a scatter plot.\n",
        "3. Logistic regression.\n",
        "Logistic regression is a powerful machine learning algorithm that utilizes a sigmoid function and works best on binary classification problems, although it can be used on multi-class classification problems through the “one vs. all” method. Logistic regression (despite its name) is not fit for regression tasks.\n",
        "4. Naive Bayes.\n",
        "Naive Bayes uses a similar method to predict the probability of different class based on various attributes. This algorithm is mostly used in text classification and with problems having multiple classes.\n",
        "5. Linear discriminant analysis.\n",
        "Linear discriminant analysis is used as a tool for classification, dimension reduction, and data visualization. … When tackling real-world classification problems, LDA is often the benchmarking method before other more complicated and flexible ones are employed\n",
        "6. Decision trees.\n",
        "Top 5 advantages and disadvantages of Decision Tree Algorithm. Decision Tree is a very popular machine learning algorithm. Decision Tree solves the problem of machine learning by transforming the data into a tree representation. … A decision tree algorithm can be used to solve both regression and classification problems.\n",
        "7. K-nearest neighbor algorithm.\n",
        "The k-nearest neighbors (KNN) algorithm is a simple, easy-to-implement supervised machine learning algorithm that can be used to solve both classification and regression problems.\n",
        "8. Neural networks (Multilayer perceptron)\n",
        "Applications. MLPs are useful in research for their ability to solve problems stochastically, which often allows approximate solutions for extremely complex problems like fitness approximation."
      ],
      "metadata": {
        "id": "CM8LLeBD0W7I"
      }
    },
    {
      "cell_type": "markdown",
      "source": [],
      "metadata": {
        "id": "gCXEnK100nvA"
      }
    }
  ]
}